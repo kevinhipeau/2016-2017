{
 "cells": [
  {
   "cell_type": "markdown",
   "metadata": {},
   "source": [
    "# Rendu Hipeau Kévin "
   ]
  },
  {
   "cell_type": "code",
   "execution_count": null,
   "metadata": {
    "collapsed": true
   },
   "outputs": [],
   "source": [
    "#importation des librairies \n",
    "\n",
    "import matplotlib\n",
    "%matplotlib inline\n",
    "import csv as csv \n",
    "import numpy as np\n",
    "import numpy as np\n",
    "import scipy.stats as ss\n",
    "import matplotlib.pyplot as plt\n",
    "from sklearn import datasets, linear_model\n",
    "import pandas as pd\n",
    "import pandas as pd\n",
    "from __future__ import division\n",
    "from sklearn.linear_model import LinearRegression\n",
    "\n",
    "import re\n"
   ]
  },
  {
   "cell_type": "markdown",
   "metadata": {},
   "source": [
    "Tout d'abord je vais recuperer le csv et l'ajouter dans ma varialbe data"
   ]
  },
  {
   "cell_type": "code",
   "execution_count": null,
   "metadata": {
    "collapsed": true
   },
   "outputs": [],
   "source": [
    "data_all = []\n",
    "#recuperation  du csv\n",
    "with open('train.csv') as train_file:\n",
    "    csv_reader = csv.reader(train_file, delimiter=',', quotechar='\"')\n",
    "    for row in csv_reader:\n",
    "        data_all.append(row)\n",
    "data_all = np.array(data_all)\n",
    "#ajout des données dans data\n",
    "data = data_all[1::]"
   ]
  },
  {
   "cell_type": "markdown",
   "metadata": {},
   "source": [
    "J'affiche ensuite le nombre de lignes et de colonnes ainsi que les 3 dernieres lignes de mon csv"
   ]
  },
  {
   "cell_type": "code",
   "execution_count": null,
   "metadata": {
    "collapsed": false
   },
   "outputs": [],
   "source": [
    "print data[len(data)-3::1]#on affiche les 3 dernieres lignes \n",
    "print(\"Nombre de lignes \" + str(len(data)))\n",
    "print(\"Nombre de colonnes \" +str(len(data[0])))"
   ]
  },
  {
   "cell_type": "markdown",
   "metadata": {},
   "source": [
    "Je vais ensuite utiliser la librairie panda pour recuperer mes données du csv. "
   ]
  },
  {
   "cell_type": "code",
   "execution_count": null,
   "metadata": {
    "collapsed": false
   },
   "outputs": [],
   "source": [
    "df = pd.read_csv('train.csv', header=0)\n",
    "print df #on peut voir que mon fichier est bien importé"
   ]
  },
  {
   "cell_type": "markdown",
   "metadata": {},
   "source": [
    "Je veux maintenant voir le nombre de mort en fonction de la lettre des Cabine "
   ]
  },
  {
   "cell_type": "code",
   "execution_count": null,
   "metadata": {
    "collapsed": true
   },
   "outputs": [],
   "source": [
    "#Cette methode me permet de recuperer toute les cabines et les morts/survivant associes à aux groupes cabines (A,B,C,etc)\n",
    "#elle me retourne un dictionnaire la clef est la lettre de la cabine\n",
    "def getCabin(survive):\n",
    "    typeCabin = [];\n",
    "    cabinArray = {}\n",
    "    cabinArray[\"other\"]= 0\n",
    "    for passenger in range(1,len(df[(df['Survived'] == survive)])):#on parcours les passagers surviants ou non\n",
    "        cabin =  str(df.iloc[[passenger]][\"Cabin\"].item())     \n",
    "        if cabin[0][0] is not \"n\" : #si la valeur n'est pas à NaN un null numerique  \n",
    "            if cabin[0][0] not in typeCabin: #si le groupe de cabine n'est pas deja dans la dictionnaire on la creer \n",
    "                cabinArray[cabin[0]] = 1\n",
    "                typeCabin.append(cabin[0])\n",
    "            else:\n",
    "                 cabinArray[cabin[0]] = cabinArray[cabin[0]] +1 #on ajoute la personne au groupe de cabine trouvé\n",
    "        else:# si la personne n'a pas de cabine\n",
    "            cabinArray[\"other\"] = cabinArray[\"other\"] +1 \n",
    "    return cabinArray"
   ]
  },
  {
   "cell_type": "markdown",
   "metadata": {},
   "source": [
    "On recupere les groupes de cabines grace à notre methode"
   ]
  },
  {
   "cell_type": "code",
   "execution_count": null,
   "metadata": {
    "collapsed": false
   },
   "outputs": [],
   "source": [
    "cabinSurvive = getCabin(True)\n",
    "cabinNoSurvive = getCabin(False)\n",
    "print cabinSurvive\n",
    "print cabinNoSurvive"
   ]
  },
  {
   "cell_type": "markdown",
   "metadata": {},
   "source": [
    "Affichage des resulats dans un camembert !\n",
    "Je vais ajouter chaque lettre de cabine à un tableau letter et chaque nombre de personnes dans un autre tableau je separe mes clefs et mes valeurs du dictionaire"
   ]
  },
  {
   "cell_type": "code",
   "execution_count": null,
   "metadata": {
    "collapsed": false
   },
   "outputs": [],
   "source": [
    "letter = []\n",
    "number = []\n",
    "numberletter = []\n",
    "i = 1\n",
    "#pour les non survivants \n",
    "for key in cabinNoSurvive:\n",
    "    numberletter.append(i)\n",
    "    i = i+1\n",
    "    letter.append(str(key))\n",
    "    number.append(cabinNoSurvive[key] / (cabinNoSurvive[key] +cabinSurvive[key])*100)\n",
    "    print str(key) +\"  \" + str(cabinNoSurvive[key] / (cabinNoSurvive[key] +cabinSurvive[key])*100 )\n",
    "    \n",
    "\n"
   ]
  },
  {
   "cell_type": "markdown",
   "metadata": {},
   "source": [
    "On creer et affiche les diagrammes pour non survivants"
   ]
  },
  {
   "cell_type": "code",
   "execution_count": null,
   "metadata": {
    "collapsed": false
   },
   "outputs": [],
   "source": [
    "#on affiche un diagrame en bar dans un premier temps\n",
    "plt.bar(numberletter, number, align='center')\n",
    "plt.xticks(numberletter, letter)\n",
    "plt.show()\n",
    "\n",
    "#on affiche ensuite un diagrame en camenbert\n",
    "explode = (0, 0, 0, 0, 0,0, 0.1, 0, 0.2) \n",
    "colors = ['yellowgreen', 'gold', 'lightskyblue', 'lightcoral','red','green','grey','purple','white']\n",
    "plt.pie(number, explode=explode, labels=letter, autopct='%1.1f%%', startangle=90, shadow=True,colors=colors)\n",
    "plt.axis('equal')\n",
    "plt.show()\n"
   ]
  },
  {
   "cell_type": "markdown",
   "metadata": {},
   "source": [
    "Je fais la meme chose pour les survivants"
   ]
  },
  {
   "cell_type": "code",
   "execution_count": null,
   "metadata": {
    "collapsed": false
   },
   "outputs": [],
   "source": [
    "letter = []\n",
    "number = []\n",
    "numberletter = []\n",
    "i = 1\n",
    "#pour les non survivants \n",
    "for key in cabinSurvive:\n",
    "    numberletter.append(i)\n",
    "    i = i+1\n",
    "    letter.append(str(key))\n",
    "    number.append(cabinSurvive[key] / (cabinNoSurvive[key] +cabinSurvive[key])*100)\n",
    "    print str(key) +\"  \" + str(cabinSurvive[key] / (cabinNoSurvive[key] +cabinSurvive[key])*100 )\n",
    "    \n",
    "#on affiche un diagrame en bar dans un premier temps\n",
    "plt.bar(numberletter, number, align='center')\n",
    "plt.xticks(numberletter, letter)\n",
    "plt.show()\n",
    "\n",
    "#on affiche ensuite un diagrame en camenbert\n",
    "explode = (0, 0, 0, 0, 0,0, 0.1, 0, 0.2) \n",
    "colors = ['yellowgreen', 'gold', 'lightskyblue', 'lightcoral','red','green','grey','purple','white']\n",
    "plt.pie(number, explode=explode, labels=letter, autopct='%1.1f%%', startangle=90, shadow=True,colors=colors)\n",
    "plt.axis('equal')\n",
    "plt.show()"
   ]
  },
  {
   "cell_type": "markdown",
   "metadata": {},
   "source": [
    "Nous pouvons en deduire qu'il y a eu plus de survivant dans les cabines de type E et T.\n"
   ]
  },
  {
   "cell_type": "markdown",
   "metadata": {},
   "source": [
    "### Je vais maintenant voir si le ticket est pair ou impair  il y a plus de chance de survivre"
   ]
  },
  {
   "cell_type": "code",
   "execution_count": null,
   "metadata": {
    "collapsed": true
   },
   "outputs": [],
   "source": [
    "#Cette méthode va me servire à recuperer le nombre de survivant ou de noyés ayant un nombre pair ou impaire\n",
    "def getNbPairImpair(survive): \n",
    "    nbPair =0\n",
    "    nbImpair = 0\n",
    "    for i in range(1,len(df[df[\"Survived\"] == survive])):\n",
    "        if re.search(r'\\d+',df.iloc[[i]][\"Ticket\"].item()) is not None:#je verifie si le ticket n'est pas null\n",
    "            if int(re.search(r'\\d+',df.iloc[[i]][\"Ticket\"].item()).group()) % 2 == 0:#je recherche les numeros dans le ticket \n",
    "                nbPair = nbPair +1\n",
    "            else:\n",
    "                nbImpair = nbImpair +1\n",
    "    return (nbPair,nbImpair)#je retourne un tuple avec les nombres pairs ou impairs"
   ]
  },
  {
   "cell_type": "code",
   "execution_count": null,
   "metadata": {
    "collapsed": false
   },
   "outputs": [],
   "source": [
    "nbPairSurvive =0\n",
    "nbImpairSurvive = 0\n",
    "nbPairDead = 0\n",
    "nbImpairDead = 0\n",
    "\n",
    "retSurvive = getNbPairImpair(1)# je regarde le nombre de survivant\n",
    "nbPairSurvive = retSurvive[0]#je recupere la partie pair\n",
    "nbImpairSurvive = retSurvive[1]# la partie impair\n"
   ]
  },
  {
   "cell_type": "markdown",
   "metadata": {},
   "source": [
    "Je vais afficher un graphique pour comparer le nombre de survivant et les noyés en fonction du nombre pair ou impair"
   ]
  },
  {
   "cell_type": "code",
   "execution_count": null,
   "metadata": {
    "collapsed": false
   },
   "outputs": [],
   "source": [
    "letter = [\"Pair\",\"Impair\"]\n",
    "number = [nbPairSurvive,nbImpairSurvive]\n",
    "numberletter = [1,2]\n",
    "\n",
    "plt.bar(numberletter, number, align='center')\n",
    "plt.xticks(numberletter, letter)\n",
    "plt.title(\"Nombre de survivant en fonction du ticket (pair ou impair) \")\n",
    "plt.show()"
   ]
  },
  {
   "cell_type": "code",
   "execution_count": null,
   "metadata": {
    "collapsed": false
   },
   "outputs": [],
   "source": [
    "retDead = getNbPairImpair(0)\n",
    "nbPairDead = retDead[0]\n",
    "nbImpairDead = retDead[1]\n",
    "number = [nbPairDead,nbImpairDead]\n",
    "plt.bar(numberletter, number, align='center')\n",
    "plt.xticks(numberletter, letter)\n",
    "plt.title(\"Nombre de mort en fonction du ticket (pair ou impair) \")\n",
    "plt.show()\n"
   ]
  },
  {
   "cell_type": "raw",
   "metadata": {},
   "source": [
    "Je vais maintenant si les personnes survivantes on de l'entourage"
   ]
  },
  {
   "cell_type": "code",
   "execution_count": null,
   "metadata": {
    "collapsed": false
   },
   "outputs": [],
   "source": [
    "nbSurvivePerParch = {} #Je crée un dictionnaire\n",
    "\n",
    "for x in range(1,len(df[ (df['Survived'] == 1)])): #je parcour toute les personnes survivantes\n",
    "    if df.iloc[[x]][\"Parch\"].item() < 7: \n",
    "        nbParch =df.iloc[[x]][\"Parch\"].item()#je prends l'entourage de la personne\n",
    "        if nbParch not in nbSurvivePerParch:\n",
    "            nbSurvivePerParch[nbParch] = 1 #si l'entourage n'est pas connu je le crée \n",
    "        else:\n",
    "            nbSurvivePerParch[nbParch] = nbSurvivePerParch[nbParch] +1\n",
    "print nbSurvivePerParch"
   ]
  },
  {
   "cell_type": "markdown",
   "metadata": {},
   "source": [
    "Je separe les clefs et les valeurs de mon dictionnaire"
   ]
  },
  {
   "cell_type": "code",
   "execution_count": null,
   "metadata": {
    "collapsed": true
   },
   "outputs": [],
   "source": [
    "nbPersonn = []\n",
    "nbHave = []\n",
    "\n",
    "for key in nbSurvivePerParch:\n",
    "    nbHave.append([str(key)])\n",
    "    nbPersonn.append([nbSurvivePerParch[key]])"
   ]
  },
  {
   "cell_type": "markdown",
   "metadata": {},
   "source": [
    "J'affiche le graphique"
   ]
  },
  {
   "cell_type": "code",
   "execution_count": null,
   "metadata": {
    "collapsed": false
   },
   "outputs": [],
   "source": [
    "%matplotlib inline\n",
    "plt.figure()\n",
    "plt.title('Nombre de personne survivante en fonction de leur entourage')\n",
    "plt.ylabel('Nb survivant')\n",
    "plt.xlabel(u'Personne accompagnant')\n",
    "plt.plot(nbHave,nbPersonn, 'k.')\n",
    "plt.axis([-1, 7, 0, 300])\n",
    "plt.grid(True)\n",
    "plt.show()"
   ]
  },
  {
   "cell_type": "markdown",
   "metadata": {},
   "source": [
    "On peut voir la majeur partie des personnes survivante ont peut d'entourage"
   ]
  },
  {
   "cell_type": "markdown",
   "metadata": {},
   "source": [
    "Nettoyage des données (Age)"
   ]
  },
  {
   "cell_type": "code",
   "execution_count": null,
   "metadata": {
    "collapsed": true
   },
   "outputs": [],
   "source": [
    "# Ajouter une colonne :\n",
    "df['Gender'] = 4\n",
    "\n",
    "# Peut-être avec des valeurs plus intéressantes :\n",
    "df['Gender'] = df['Sex'].map( lambda x: x[0].upper() )\n",
    "\n",
    "# Ou binaire :\n",
    "df['Gender'] = df['Sex'].map( {'female': 0, 'male': 1} ).astype(int)\n",
    "median_ages = np.zeros((2,3))\n",
    "for i in range(0, 2):\n",
    "    for j in range(0, 3):\n",
    "        median_ages[i,j] = df[(df['Gender'] == i) & \\\n",
    "                              (df['Pclass'] == j+1)]['Age'].dropna().median()\n",
    "# On commence avec une copie :\n",
    "df['AgeFill'] = df['Age']\n",
    "\n",
    "df[ df['Age'].isnull() ][['Gender','Pclass','Age','AgeFill']].head(10)\n",
    "# On commence avec une copie :\n",
    "df['AgeFill'] = df['Age']\n",
    "\n",
    "df[ df['Age'].isnull() ][['Gender','Pclass','Age','AgeFill']].head(10)\n",
    "for i in range(0, 2):\n",
    "    for j in range(0, 3):\n",
    "        df.loc[ (df.Age.isnull()) & (df.Gender == i) & \n",
    "                (df.Pclass == j+1),\\\n",
    "                'AgeFill'] = median_ages[i,j]\n"
   ]
  },
  {
   "cell_type": "markdown",
   "metadata": {},
   "source": [
    "## Relation entre la classe et l'age"
   ]
  },
  {
   "cell_type": "code",
   "execution_count": null,
   "metadata": {
    "collapsed": false
   },
   "outputs": [],
   "source": [
    "model = LinearRegression()\n",
    "age = df[df[\"AgeFill\"] > 18]['AgeFill'].to_frame()\n",
    "classe = df[df[\"AgeFill\"] > 18]['Pclass'].to_frame()\n",
    "model.fit(y, X)\n",
    "for i in range(1,4):\n",
    "        print('La personne de class'+str(i)+ ' a un age de {px:.2f}'.format(\n",
    "        px=model.predict([[i]])[0][0]))"
   ]
  },
  {
   "cell_type": "code",
   "execution_count": null,
   "metadata": {
    "collapsed": false
   },
   "outputs": [],
   "source": [
    "\n",
    "age = df[df[\"AgeFill\"] > 18]['AgeFill'].to_frame()\n",
    "classe = df[df[\"AgeFill\"] > 18]['Pclass'].to_frame()\n",
    "regr = linear_model.LinearRegression()\n",
    "regr.fit(age, classe)\n",
    "plt.title('La classe en fonction de l\\'age')\n",
    "plt.xlabel('Age')\n",
    "plt.ylabel('Classe')\n",
    "plt.scatter(age, classe,  color='black')\n",
    "plt.grid(True)\n",
    "plt.plot(age, regr.predict(age), color='red',\n",
    "         linewidth=3)\n",
    "plt.xticks(())\n",
    "plt.yticks(())\n",
    "plt.show()\n",
    "print('La variance est de: %.2f' % regr.score(age, classe))\n"
   ]
  },
  {
   "cell_type": "code",
   "execution_count": null,
   "metadata": {
    "collapsed": false
   },
   "outputs": [],
   "source": [
    "model = LinearRegression()\n",
    "age = df[df[\"AgeFill\"] > 18]['AgeFill'].to_frame()\n",
    "tarif = df[df[\"AgeFill\"] > 18]['Fare'].to_frame()\n",
    "model.fit(y, X)"
   ]
  },
  {
   "cell_type": "code",
   "execution_count": null,
   "metadata": {
    "collapsed": false
   },
   "outputs": [],
   "source": [
    "age = df[df[\"AgeFill\"] > 18]['AgeFill'].to_frame()\n",
    "tarif = df[df[\"AgeFill\"] > 18]['Fare'].to_frame()\n",
    "regr = linear_model.LinearRegression()\n",
    "regr.fit(age, tarif)\n",
    "\n",
    "plt.title('Le tarif en fonction du prix')\n",
    "plt.xlabel('Age')\n",
    "plt.ylabel('Prix')\n",
    "plt.scatter(age, tarif,  color='black')\n",
    "plt.grid(True)\n",
    "plt.plot(age, regr.predict(age), color='red',\n",
    "         linewidth=3)\n",
    "plt.xticks(())\n",
    "plt.yticks(())\n",
    "plt.show()\n",
    "print('La variance est de: %.2f' % regr.score(age, classe))"
   ]
  },
  {
   "cell_type": "code",
   "execution_count": null,
   "metadata": {
    "collapsed": true
   },
   "outputs": [],
   "source": []
  },
  {
   "cell_type": "code",
   "execution_count": null,
   "metadata": {
    "collapsed": true
   },
   "outputs": [],
   "source": []
  }
 ],
 "metadata": {
  "kernelspec": {
   "display_name": "Python 2",
   "language": "python",
   "name": "python2"
  },
  "language_info": {
   "codemirror_mode": {
    "name": "ipython",
    "version": 2
   },
   "file_extension": ".py",
   "mimetype": "text/x-python",
   "name": "python",
   "nbconvert_exporter": "python",
   "pygments_lexer": "ipython2",
   "version": "2.7.12"
  }
 },
 "nbformat": 4,
 "nbformat_minor": 2
}
